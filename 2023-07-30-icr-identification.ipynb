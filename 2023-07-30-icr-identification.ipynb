{
 "cells": [
  {
   "cell_type": "code",
   "execution_count": 1,
   "id": "668dba30",
   "metadata": {
    "execution": {
     "iopub.execute_input": "2023-08-01T15:12:51.189826Z",
     "iopub.status.busy": "2023-08-01T15:12:51.189403Z",
     "iopub.status.idle": "2023-08-01T15:12:52.536903Z",
     "shell.execute_reply": "2023-08-01T15:12:52.535697Z"
    },
    "papermill": {
     "duration": 1.358735,
     "end_time": "2023-08-01T15:12:52.539872",
     "exception": false,
     "start_time": "2023-08-01T15:12:51.181137",
     "status": "completed"
    },
    "tags": []
   },
   "outputs": [
    {
     "name": "stderr",
     "output_type": "stream",
     "text": [
      "/opt/conda/lib/python3.10/site-packages/scipy/__init__.py:146: UserWarning: A NumPy version >=1.16.5 and <1.23.0 is required for this version of SciPy (detected version 1.23.5\n",
      "  warnings.warn(f\"A NumPy version >={np_minversion} and <{np_maxversion}\"\n"
     ]
    }
   ],
   "source": [
    "import pandas as pd\n",
    "import numpy as np\n",
    "\n",
    "from sklearn.preprocessing import MinMaxScaler, StandardScaler\n",
    "import os"
   ]
  },
  {
   "cell_type": "code",
   "execution_count": 2,
   "id": "9fbc2085",
   "metadata": {
    "execution": {
     "iopub.execute_input": "2023-08-01T15:12:52.554898Z",
     "iopub.status.busy": "2023-08-01T15:12:52.553606Z",
     "iopub.status.idle": "2023-08-01T15:12:52.560804Z",
     "shell.execute_reply": "2023-08-01T15:12:52.559207Z"
    },
    "papermill": {
     "duration": 0.018348,
     "end_time": "2023-08-01T15:12:52.564460",
     "exception": false,
     "start_time": "2023-08-01T15:12:52.546112",
     "status": "completed"
    },
    "tags": []
   },
   "outputs": [],
   "source": [
    "imput_file_path = '/kaggle/input/icr-identify-age-related-conditions/'\n",
    "correlation_threshold = 0.7\n",
    "\n",
    "use_perc = False\n",
    "lower_percentile = 5\n",
    "upper_percentile = 95\n",
    "\n",
    "use_std = True\n",
    "num_std = 3\n",
    "\n",
    "min_max_scaler = True\n",
    "standard_scaler = False"
   ]
  },
  {
   "cell_type": "code",
   "execution_count": 3,
   "id": "7a1dcee8",
   "metadata": {
    "execution": {
     "iopub.execute_input": "2023-08-01T15:12:52.580338Z",
     "iopub.status.busy": "2023-08-01T15:12:52.579925Z",
     "iopub.status.idle": "2023-08-01T15:12:52.645948Z",
     "shell.execute_reply": "2023-08-01T15:12:52.644841Z"
    },
    "papermill": {
     "duration": 0.076561,
     "end_time": "2023-08-01T15:12:52.648734",
     "exception": false,
     "start_time": "2023-08-01T15:12:52.572173",
     "status": "completed"
    },
    "tags": []
   },
   "outputs": [],
   "source": [
    "# Reading Datasets\n",
    "sample_submission = pd.read_csv(imput_file_path + 'sample_submission.csv')\n",
    "greeks = pd.read_csv(imput_file_path + 'greeks.csv')\n",
    "train = pd.read_csv(imput_file_path + 'train.csv')\n",
    "test = pd.read_csv(imput_file_path + 'test.csv')"
   ]
  },
  {
   "cell_type": "code",
   "execution_count": 4,
   "id": "0b0e690c",
   "metadata": {
    "execution": {
     "iopub.execute_input": "2023-08-01T15:12:52.663315Z",
     "iopub.status.busy": "2023-08-01T15:12:52.662911Z",
     "iopub.status.idle": "2023-08-01T15:12:52.680982Z",
     "shell.execute_reply": "2023-08-01T15:12:52.679725Z"
    },
    "papermill": {
     "duration": 0.028695,
     "end_time": "2023-08-01T15:12:52.683618",
     "exception": false,
     "start_time": "2023-08-01T15:12:52.654923",
     "status": "completed"
    },
    "tags": []
   },
   "outputs": [
    {
     "data": {
      "text/plain": [
       "0    509\n",
       "1    108\n",
       "Name: Class, dtype: int64"
      ]
     },
     "execution_count": 4,
     "metadata": {},
     "output_type": "execute_result"
    }
   ],
   "source": [
    "# Check prediction class imbalance\n",
    "train['Class'].value_counts()"
   ]
  },
  {
   "cell_type": "code",
   "execution_count": 5,
   "id": "7b8611b5",
   "metadata": {
    "execution": {
     "iopub.execute_input": "2023-08-01T15:12:52.698483Z",
     "iopub.status.busy": "2023-08-01T15:12:52.697101Z",
     "iopub.status.idle": "2023-08-01T15:12:52.706530Z",
     "shell.execute_reply": "2023-08-01T15:12:52.705123Z"
    },
    "papermill": {
     "duration": 0.019772,
     "end_time": "2023-08-01T15:12:52.709582",
     "exception": false,
     "start_time": "2023-08-01T15:12:52.689810",
     "status": "completed"
    },
    "tags": []
   },
   "outputs": [],
   "source": [
    "# Encode categorical column\n",
    "train['EJ'] = train['EJ'].replace({'A':0, 'B':1})\n",
    "test['EJ'] = test['EJ'].replace({'A':0, 'B':1})"
   ]
  },
  {
   "cell_type": "code",
   "execution_count": 6,
   "id": "90dbf5e7",
   "metadata": {
    "execution": {
     "iopub.execute_input": "2023-08-01T15:12:52.724420Z",
     "iopub.status.busy": "2023-08-01T15:12:52.723970Z",
     "iopub.status.idle": "2023-08-01T15:12:56.263874Z",
     "shell.execute_reply": "2023-08-01T15:12:56.262394Z"
    },
    "papermill": {
     "duration": 3.550441,
     "end_time": "2023-08-01T15:12:56.266815",
     "exception": false,
     "start_time": "2023-08-01T15:12:52.716374",
     "status": "completed"
    },
    "tags": []
   },
   "outputs": [
    {
     "name": "stdout",
     "output_type": "stream",
     "text": [
      "(617, 58)\n",
      "(617, 50)\n"
     ]
    }
   ],
   "source": [
    "# Remove correlated features\n",
    "def get_correlation(df):\n",
    "    correlation_data = []\n",
    "    columns = df.columns\n",
    "\n",
    "    for i in range(len(columns)):\n",
    "        for j in range(i + 1, len(columns)):\n",
    "            col1 = columns[i]\n",
    "            col2 = columns[j]\n",
    "            correlation = df[col1].corr(df[col2])\n",
    "            correlation_data.append((col1, col2, correlation))\n",
    "\n",
    "    correlation_df = pd.DataFrame(correlation_data, columns=['Column 1', 'Column 2', 'Correlation'])\n",
    "    correlation_df = correlation_df.sort_values(by='Correlation', ascending=False).reset_index(drop=True)\n",
    "\n",
    "    return correlation_df\n",
    "\n",
    "\n",
    "correlation_result = get_correlation(train[[col for col in train.columns if train[col].dtype != 'object']])\n",
    "print(train.shape)\n",
    "\n",
    "while correlation_result['Correlation'][0] > correlation_threshold:\n",
    "    train.drop(columns = [correlation_result['Column 2'][0]], inplace = True)\n",
    "    correlation_result = get_correlation(train[[col for col in train.columns if train[col].dtype != 'object']])\n",
    "    \n",
    "print(train.shape)"
   ]
  },
  {
   "cell_type": "code",
   "execution_count": 7,
   "id": "65b1b19d",
   "metadata": {
    "execution": {
     "iopub.execute_input": "2023-08-01T15:12:56.283211Z",
     "iopub.status.busy": "2023-08-01T15:12:56.282766Z",
     "iopub.status.idle": "2023-08-01T15:12:56.386989Z",
     "shell.execute_reply": "2023-08-01T15:12:56.385449Z"
    },
    "papermill": {
     "duration": 0.115129,
     "end_time": "2023-08-01T15:12:56.390122",
     "exception": false,
     "start_time": "2023-08-01T15:12:56.274993",
     "status": "completed"
    },
    "tags": []
   },
   "outputs": [],
   "source": [
    "# Outlier removal - based on percentile\n",
    "def cap_data_by_percentile(train_data, lower_percentile=5, upper_percentile=95):\n",
    "    lower_thresholds = np.percentile(train_data, lower_percentile, axis=0)\n",
    "    upper_thresholds = np.percentile(train_data, upper_percentile, axis=0)\n",
    "\n",
    "    capped_data = np.clip(train_data, lower_thresholds, upper_thresholds)\n",
    "\n",
    "    return capped_data\n",
    "\n",
    "if use_perc:\n",
    "    train = cap_data_by_percentile(train[[col for col in train.columns if train[col].dtype != 'object']], \\\n",
    "                                   lower_percentile=lower_percentile, upper_percentile=upper_percentile)\n",
    "\n",
    "# Outlier removal - based on standard deviation\n",
    "elif use_std:\n",
    "    for col in [col for col in train.columns if train[col].dtype != 'object']:\n",
    "        mean = np.mean(train[col], axis=0)\n",
    "        std = np.std(train[col], axis=0)\n",
    "        thresholds = num_std * std\n",
    "\n",
    "        train[col] = np.clip(train[col], mean - thresholds, mean + thresholds)"
   ]
  },
  {
   "cell_type": "code",
   "execution_count": 8,
   "id": "647d07d8",
   "metadata": {
    "execution": {
     "iopub.execute_input": "2023-08-01T15:12:56.404327Z",
     "iopub.status.busy": "2023-08-01T15:12:56.403909Z",
     "iopub.status.idle": "2023-08-01T15:12:56.409016Z",
     "shell.execute_reply": "2023-08-01T15:12:56.407900Z"
    },
    "papermill": {
     "duration": 0.015195,
     "end_time": "2023-08-01T15:12:56.411479",
     "exception": false,
     "start_time": "2023-08-01T15:12:56.396284",
     "status": "completed"
    },
    "tags": []
   },
   "outputs": [],
   "source": [
    "# # Feature Scaling\n",
    "\n",
    "# # MinMaxScaler\n",
    "# if min_max_scaler:\n",
    "#     scaler = MinMaxScaler()\n",
    "#     scaled_train = scaler.fit_transform(train)\n",
    "\n",
    "# # StandardScaler\n",
    "# if standard_scaler:\n",
    "#     scaler = StandardScaler()\n",
    "#     scaled_train = scaler.fit_transform(train)"
   ]
  },
  {
   "cell_type": "code",
   "execution_count": 9,
   "id": "afb1fa62",
   "metadata": {
    "execution": {
     "iopub.execute_input": "2023-08-01T15:12:56.426238Z",
     "iopub.status.busy": "2023-08-01T15:12:56.425802Z",
     "iopub.status.idle": "2023-08-01T15:12:56.447333Z",
     "shell.execute_reply": "2023-08-01T15:12:56.446370Z"
    },
    "papermill": {
     "duration": 0.032218,
     "end_time": "2023-08-01T15:12:56.449960",
     "exception": false,
     "start_time": "2023-08-01T15:12:56.417742",
     "status": "completed"
    },
    "tags": []
   },
   "outputs": [],
   "source": [
    "for col in train.columns:\n",
    "    if train[col].isna().sum()>0:\n",
    "        train[col].fillna(train[col].mean(), inplace=True)"
   ]
  },
  {
   "cell_type": "code",
   "execution_count": 10,
   "id": "af53bdea",
   "metadata": {
    "execution": {
     "iopub.execute_input": "2023-08-01T15:12:56.464742Z",
     "iopub.status.busy": "2023-08-01T15:12:56.463707Z",
     "iopub.status.idle": "2023-08-01T15:13:05.773073Z",
     "shell.execute_reply": "2023-08-01T15:13:05.771503Z"
    },
    "papermill": {
     "duration": 9.319324,
     "end_time": "2023-08-01T15:13:05.775531",
     "exception": false,
     "start_time": "2023-08-01T15:12:56.456207",
     "status": "completed"
    },
    "tags": []
   },
   "outputs": [
    {
     "name": "stderr",
     "output_type": "stream",
     "text": [
      "[I 2023-08-01 15:12:57,625] A new study created in memory with name: no-name-1bff3ee4-61b0-46d6-a67f-fd0f5c59b6f4\n",
      "[I 2023-08-01 15:12:57,693] Trial 0 finished with value: 0.47896147887723595 and parameters: {'max_depth': 3, 'min_samples_split': 6}. Best is trial 0 with value: 0.47896147887723595.\n",
      "[I 2023-08-01 15:12:57,761] Trial 1 finished with value: 1.4655523383287612 and parameters: {'max_depth': 4, 'min_samples_split': 8}. Best is trial 0 with value: 0.47896147887723595.\n",
      "[I 2023-08-01 15:12:57,847] Trial 2 finished with value: 2.780413712321952 and parameters: {'max_depth': 6, 'min_samples_split': 10}. Best is trial 0 with value: 0.47896147887723595.\n",
      "[I 2023-08-01 15:12:57,896] Trial 3 finished with value: 0.3504586008670302 and parameters: {'max_depth': 2, 'min_samples_split': 2}. Best is trial 3 with value: 0.3504586008670302.\n",
      "[I 2023-08-01 15:12:58,005] Trial 4 finished with value: 4.192057327843315 and parameters: {'max_depth': 10, 'min_samples_split': 6}. Best is trial 3 with value: 0.3504586008670302.\n",
      "[I 2023-08-01 15:12:58,111] Trial 5 finished with value: 3.4990641541201923 and parameters: {'max_depth': 9, 'min_samples_split': 9}. Best is trial 3 with value: 0.3504586008670302.\n",
      "[I 2023-08-01 15:12:58,205] Trial 6 finished with value: 3.4839881895540614 and parameters: {'max_depth': 7, 'min_samples_split': 3}. Best is trial 3 with value: 0.3504586008670302.\n",
      "[I 2023-08-01 15:12:58,312] Trial 7 finished with value: 3.7187421966788845 and parameters: {'max_depth': 9, 'min_samples_split': 8}. Best is trial 3 with value: 0.3504586008670302.\n",
      "[I 2023-08-01 15:12:58,371] Trial 8 finished with value: 0.5371186847892397 and parameters: {'max_depth': 3, 'min_samples_split': 7}. Best is trial 3 with value: 0.3504586008670302.\n",
      "[I 2023-08-01 15:12:58,419] Trial 9 finished with value: 0.3504586008670302 and parameters: {'max_depth': 2, 'min_samples_split': 6}. Best is trial 3 with value: 0.3504586008670302.\n",
      "[I 2023-08-01 15:12:58,514] Trial 10 finished with value: 2.610539107436777 and parameters: {'max_depth': 5, 'min_samples_split': 2}. Best is trial 3 with value: 0.3504586008670302.\n",
      "[I 2023-08-01 15:12:58,579] Trial 11 finished with value: 0.3504586008670302 and parameters: {'max_depth': 2, 'min_samples_split': 4}. Best is trial 3 with value: 0.3504586008670302.\n",
      "[I 2023-08-01 15:12:58,644] Trial 12 finished with value: 0.3504586008670302 and parameters: {'max_depth': 2, 'min_samples_split': 4}. Best is trial 3 with value: 0.3504586008670302.\n",
      "[I 2023-08-01 15:12:58,732] Trial 13 finished with value: 1.3954929609433353 and parameters: {'max_depth': 4, 'min_samples_split': 5}. Best is trial 3 with value: 0.3504586008670302.\n",
      "[I 2023-08-01 15:12:58,799] Trial 14 finished with value: 0.3504586008670302 and parameters: {'max_depth': 2, 'min_samples_split': 2}. Best is trial 3 with value: 0.3504586008670302.\n",
      "[I 2023-08-01 15:12:58,910] Trial 15 finished with value: 3.4047161316124024 and parameters: {'max_depth': 7, 'min_samples_split': 4}. Best is trial 3 with value: 0.3504586008670302.\n",
      "[I 2023-08-01 15:12:58,996] Trial 16 finished with value: 1.3475623129738186 and parameters: {'max_depth': 4, 'min_samples_split': 5}. Best is trial 3 with value: 0.3504586008670302.\n",
      "[I 2023-08-01 15:12:59,073] Trial 17 finished with value: 0.5371186847892397 and parameters: {'max_depth': 3, 'min_samples_split': 3}. Best is trial 3 with value: 0.3504586008670302.\n",
      "[I 2023-08-01 15:12:59,172] Trial 18 finished with value: 2.9494578465933587 and parameters: {'max_depth': 5, 'min_samples_split': 7}. Best is trial 3 with value: 0.3504586008670302.\n",
      "[I 2023-08-01 15:12:59,238] Trial 19 finished with value: 0.3504586008670302 and parameters: {'max_depth': 2, 'min_samples_split': 10}. Best is trial 3 with value: 0.3504586008670302.\n",
      "[I 2023-08-01 15:12:59,336] Trial 20 finished with value: 2.5930413993626003 and parameters: {'max_depth': 5, 'min_samples_split': 3}. Best is trial 3 with value: 0.3504586008670302.\n",
      "[I 2023-08-01 15:12:59,403] Trial 21 finished with value: 0.3504586008670302 and parameters: {'max_depth': 2, 'min_samples_split': 4}. Best is trial 3 with value: 0.3504586008670302.\n",
      "[I 2023-08-01 15:12:59,485] Trial 22 finished with value: 0.5371186847892397 and parameters: {'max_depth': 3, 'min_samples_split': 5}. Best is trial 3 with value: 0.3504586008670302.\n",
      "[I 2023-08-01 15:12:59,554] Trial 23 finished with value: 0.3421184546707397 and parameters: {'max_depth': 2, 'min_samples_split': 2}. Best is trial 23 with value: 0.3421184546707397.\n",
      "[I 2023-08-01 15:12:59,633] Trial 24 finished with value: 0.5375052718462829 and parameters: {'max_depth': 3, 'min_samples_split': 2}. Best is trial 23 with value: 0.3421184546707397.\n",
      "[I 2023-08-01 15:12:59,720] Trial 25 finished with value: 1.6866642909973923 and parameters: {'max_depth': 4, 'min_samples_split': 2}. Best is trial 23 with value: 0.3421184546707397.\n",
      "[I 2023-08-01 15:12:59,787] Trial 26 finished with value: 0.3421184546707397 and parameters: {'max_depth': 2, 'min_samples_split': 3}. Best is trial 23 with value: 0.3421184546707397.\n",
      "[I 2023-08-01 15:12:59,866] Trial 27 finished with value: 0.5375052718462829 and parameters: {'max_depth': 3, 'min_samples_split': 3}. Best is trial 23 with value: 0.3421184546707397.\n",
      "[I 2023-08-01 15:12:59,971] Trial 28 finished with value: 3.520732067223416 and parameters: {'max_depth': 6, 'min_samples_split': 2}. Best is trial 23 with value: 0.3421184546707397.\n",
      "[I 2023-08-01 15:13:00,052] Trial 29 finished with value: 0.5375052718462829 and parameters: {'max_depth': 3, 'min_samples_split': 3}. Best is trial 23 with value: 0.3421184546707397.\n",
      "[I 2023-08-01 15:13:00,129] Trial 30 finished with value: 0.3421184546707397 and parameters: {'max_depth': 2, 'min_samples_split': 2}. Best is trial 23 with value: 0.3421184546707397.\n",
      "[I 2023-08-01 15:13:00,200] Trial 31 finished with value: 0.3421184546707397 and parameters: {'max_depth': 2, 'min_samples_split': 2}. Best is trial 23 with value: 0.3421184546707397.\n",
      "[I 2023-08-01 15:13:00,284] Trial 32 finished with value: 0.5375052718462829 and parameters: {'max_depth': 3, 'min_samples_split': 3}. Best is trial 23 with value: 0.3421184546707397.\n",
      "[I 2023-08-01 15:13:00,383] Trial 33 finished with value: 1.7519926416410172 and parameters: {'max_depth': 4, 'min_samples_split': 2}. Best is trial 23 with value: 0.3421184546707397.\n",
      "[I 2023-08-01 15:13:00,455] Trial 34 finished with value: 0.3421184546707397 and parameters: {'max_depth': 2, 'min_samples_split': 3}. Best is trial 23 with value: 0.3421184546707397.\n",
      "[I 2023-08-01 15:13:00,532] Trial 35 finished with value: 0.3421184546707397 and parameters: {'max_depth': 2, 'min_samples_split': 2}. Best is trial 23 with value: 0.3421184546707397.\n",
      "[I 2023-08-01 15:13:00,603] Trial 36 finished with value: 0.3421184546707397 and parameters: {'max_depth': 2, 'min_samples_split': 4}. Best is trial 23 with value: 0.3421184546707397.\n",
      "[I 2023-08-01 15:13:00,684] Trial 37 finished with value: 0.5371186847892397 and parameters: {'max_depth': 3, 'min_samples_split': 2}. Best is trial 23 with value: 0.3421184546707397.\n",
      "[I 2023-08-01 15:13:00,806] Trial 38 finished with value: 3.637685091202554 and parameters: {'max_depth': 8, 'min_samples_split': 3}. Best is trial 23 with value: 0.3421184546707397.\n",
      "[I 2023-08-01 15:13:00,898] Trial 39 finished with value: 1.6311463928640744 and parameters: {'max_depth': 4, 'min_samples_split': 2}. Best is trial 23 with value: 0.3421184546707397.\n",
      "[I 2023-08-01 15:13:00,977] Trial 40 finished with value: 0.5375052718462829 and parameters: {'max_depth': 3, 'min_samples_split': 3}. Best is trial 23 with value: 0.3421184546707397.\n",
      "[I 2023-08-01 15:13:01,045] Trial 41 finished with value: 0.3421184546707397 and parameters: {'max_depth': 2, 'min_samples_split': 3}. Best is trial 23 with value: 0.3421184546707397.\n",
      "[I 2023-08-01 15:13:01,116] Trial 42 finished with value: 0.3421184546707397 and parameters: {'max_depth': 2, 'min_samples_split': 2}. Best is trial 23 with value: 0.3421184546707397.\n",
      "[I 2023-08-01 15:13:01,184] Trial 43 finished with value: 0.3421184546707397 and parameters: {'max_depth': 2, 'min_samples_split': 9}. Best is trial 23 with value: 0.3421184546707397.\n",
      "[I 2023-08-01 15:13:01,314] Trial 44 finished with value: 3.838312866266283 and parameters: {'max_depth': 10, 'min_samples_split': 4}. Best is trial 23 with value: 0.3421184546707397.\n",
      "[I 2023-08-01 15:13:01,384] Trial 45 finished with value: 0.3421184546707397 and parameters: {'max_depth': 2, 'min_samples_split': 3}. Best is trial 23 with value: 0.3421184546707397.\n",
      "[I 2023-08-01 15:13:01,465] Trial 46 finished with value: 0.5371186847892397 and parameters: {'max_depth': 3, 'min_samples_split': 2}. Best is trial 23 with value: 0.3421184546707397.\n",
      "[I 2023-08-01 15:13:01,541] Trial 47 finished with value: 0.3504586008670302 and parameters: {'max_depth': 2, 'min_samples_split': 5}. Best is trial 23 with value: 0.3421184546707397.\n",
      "[I 2023-08-01 15:13:01,634] Trial 48 finished with value: 1.5144282696287028 and parameters: {'max_depth': 4, 'min_samples_split': 4}. Best is trial 23 with value: 0.3421184546707397.\n",
      "[I 2023-08-01 15:13:01,702] Trial 49 finished with value: 0.3421184546707397 and parameters: {'max_depth': 2, 'min_samples_split': 7}. Best is trial 23 with value: 0.3421184546707397.\n",
      "[I 2023-08-01 15:13:01,819] Trial 50 finished with value: 3.7165278888386886 and parameters: {'max_depth': 7, 'min_samples_split': 3}. Best is trial 23 with value: 0.3421184546707397.\n",
      "[I 2023-08-01 15:13:01,893] Trial 51 finished with value: 0.3421184546707397 and parameters: {'max_depth': 2, 'min_samples_split': 2}. Best is trial 23 with value: 0.3421184546707397.\n",
      "[I 2023-08-01 15:13:01,974] Trial 52 finished with value: 0.5375052718462829 and parameters: {'max_depth': 3, 'min_samples_split': 2}. Best is trial 23 with value: 0.3421184546707397.\n",
      "[I 2023-08-01 15:13:02,045] Trial 53 finished with value: 0.3421184546707397 and parameters: {'max_depth': 2, 'min_samples_split': 2}. Best is trial 23 with value: 0.3421184546707397.\n",
      "[I 2023-08-01 15:13:02,115] Trial 54 finished with value: 0.3421184546707397 and parameters: {'max_depth': 2, 'min_samples_split': 3}. Best is trial 23 with value: 0.3421184546707397.\n",
      "[I 2023-08-01 15:13:02,197] Trial 55 finished with value: 0.5371186847892397 and parameters: {'max_depth': 3, 'min_samples_split': 2}. Best is trial 23 with value: 0.3421184546707397.\n",
      "[I 2023-08-01 15:13:02,326] Trial 56 finished with value: 3.874747457152813 and parameters: {'max_depth': 9, 'min_samples_split': 3}. Best is trial 23 with value: 0.3421184546707397.\n",
      "[I 2023-08-01 15:13:02,396] Trial 57 finished with value: 0.3504586008670302 and parameters: {'max_depth': 2, 'min_samples_split': 2}. Best is trial 23 with value: 0.3421184546707397.\n",
      "[I 2023-08-01 15:13:02,465] Trial 58 finished with value: 0.3504586008670302 and parameters: {'max_depth': 2, 'min_samples_split': 4}. Best is trial 23 with value: 0.3421184546707397.\n",
      "[I 2023-08-01 15:13:02,568] Trial 59 finished with value: 2.8310427467752506 and parameters: {'max_depth': 5, 'min_samples_split': 2}. Best is trial 23 with value: 0.3421184546707397.\n",
      "[I 2023-08-01 15:13:02,655] Trial 60 finished with value: 0.5371186847892397 and parameters: {'max_depth': 3, 'min_samples_split': 3}. Best is trial 23 with value: 0.3421184546707397.\n",
      "[I 2023-08-01 15:13:02,726] Trial 61 finished with value: 0.3421184546707397 and parameters: {'max_depth': 2, 'min_samples_split': 4}. Best is trial 23 with value: 0.3421184546707397.\n",
      "[I 2023-08-01 15:13:02,799] Trial 62 finished with value: 0.3504586008670302 and parameters: {'max_depth': 2, 'min_samples_split': 3}. Best is trial 23 with value: 0.3421184546707397.\n",
      "[I 2023-08-01 15:13:02,881] Trial 63 finished with value: 0.47857489182019286 and parameters: {'max_depth': 3, 'min_samples_split': 2}. Best is trial 23 with value: 0.3421184546707397.\n",
      "[I 2023-08-01 15:13:02,959] Trial 64 finished with value: 0.3421184546707397 and parameters: {'max_depth': 2, 'min_samples_split': 4}. Best is trial 23 with value: 0.3421184546707397.\n",
      "[I 2023-08-01 15:13:03,032] Trial 65 finished with value: 0.3504586008670302 and parameters: {'max_depth': 2, 'min_samples_split': 3}. Best is trial 23 with value: 0.3421184546707397.\n",
      "[I 2023-08-01 15:13:03,115] Trial 66 finished with value: 0.5371186847892397 and parameters: {'max_depth': 3, 'min_samples_split': 6}. Best is trial 23 with value: 0.3421184546707397.\n",
      "[I 2023-08-01 15:13:03,226] Trial 67 finished with value: 2.9941696105086204 and parameters: {'max_depth': 6, 'min_samples_split': 5}. Best is trial 23 with value: 0.3421184546707397.\n",
      "[I 2023-08-01 15:13:03,302] Trial 68 finished with value: 0.3504586008670302 and parameters: {'max_depth': 2, 'min_samples_split': 2}. Best is trial 23 with value: 0.3421184546707397.\n",
      "[I 2023-08-01 15:13:03,387] Trial 69 finished with value: 0.5371186847892397 and parameters: {'max_depth': 3, 'min_samples_split': 3}. Best is trial 23 with value: 0.3421184546707397.\n",
      "[I 2023-08-01 15:13:03,460] Trial 70 finished with value: 0.3421184546707397 and parameters: {'max_depth': 2, 'min_samples_split': 2}. Best is trial 23 with value: 0.3421184546707397.\n",
      "[I 2023-08-01 15:13:03,533] Trial 71 finished with value: 0.3504586008670302 and parameters: {'max_depth': 2, 'min_samples_split': 3}. Best is trial 23 with value: 0.3421184546707397.\n",
      "[I 2023-08-01 15:13:03,609] Trial 72 finished with value: 0.3421184546707397 and parameters: {'max_depth': 2, 'min_samples_split': 3}. Best is trial 23 with value: 0.3421184546707397.\n",
      "[I 2023-08-01 15:13:03,684] Trial 73 finished with value: 0.3504586008670302 and parameters: {'max_depth': 2, 'min_samples_split': 4}. Best is trial 23 with value: 0.3421184546707397.\n",
      "[I 2023-08-01 15:13:03,767] Trial 74 finished with value: 0.6492951398363744 and parameters: {'max_depth': 3, 'min_samples_split': 2}. Best is trial 23 with value: 0.3421184546707397.\n",
      "[I 2023-08-01 15:13:03,840] Trial 75 finished with value: 0.3504586008670302 and parameters: {'max_depth': 2, 'min_samples_split': 3}. Best is trial 23 with value: 0.3421184546707397.\n",
      "[I 2023-08-01 15:13:03,918] Trial 76 finished with value: 0.3504586008670302 and parameters: {'max_depth': 2, 'min_samples_split': 2}. Best is trial 23 with value: 0.3421184546707397.\n",
      "[I 2023-08-01 15:13:04,001] Trial 77 finished with value: 0.47857489182019286 and parameters: {'max_depth': 3, 'min_samples_split': 3}. Best is trial 23 with value: 0.3421184546707397.\n",
      "[I 2023-08-01 15:13:04,086] Trial 78 finished with value: 0.6489085527793313 and parameters: {'max_depth': 3, 'min_samples_split': 6}. Best is trial 23 with value: 0.3421184546707397.\n",
      "[I 2023-08-01 15:13:04,159] Trial 79 finished with value: 0.3421184546707397 and parameters: {'max_depth': 2, 'min_samples_split': 2}. Best is trial 23 with value: 0.3421184546707397.\n",
      "[I 2023-08-01 15:13:04,255] Trial 80 finished with value: 1.5799293162653867 and parameters: {'max_depth': 4, 'min_samples_split': 4}. Best is trial 23 with value: 0.3421184546707397.\n",
      "[I 2023-08-01 15:13:04,331] Trial 81 finished with value: 0.3421184546707397 and parameters: {'max_depth': 2, 'min_samples_split': 2}. Best is trial 23 with value: 0.3421184546707397.\n",
      "[I 2023-08-01 15:13:04,403] Trial 82 finished with value: 0.3504586008670302 and parameters: {'max_depth': 2, 'min_samples_split': 2}. Best is trial 23 with value: 0.3421184546707397.\n",
      "[I 2023-08-01 15:13:04,475] Trial 83 finished with value: 0.3421184546707397 and parameters: {'max_depth': 2, 'min_samples_split': 2}. Best is trial 23 with value: 0.3421184546707397.\n",
      "[I 2023-08-01 15:13:04,546] Trial 84 finished with value: 0.3504586008670302 and parameters: {'max_depth': 2, 'min_samples_split': 3}. Best is trial 23 with value: 0.3421184546707397.\n",
      "[I 2023-08-01 15:13:04,629] Trial 85 finished with value: 0.47896147887723595 and parameters: {'max_depth': 3, 'min_samples_split': 2}. Best is trial 23 with value: 0.3421184546707397.\n",
      "[I 2023-08-01 15:13:04,702] Trial 86 finished with value: 0.3421184546707397 and parameters: {'max_depth': 2, 'min_samples_split': 2}. Best is trial 23 with value: 0.3421184546707397.\n",
      "[I 2023-08-01 15:13:04,791] Trial 87 finished with value: 0.5375052718462829 and parameters: {'max_depth': 3, 'min_samples_split': 3}. Best is trial 23 with value: 0.3421184546707397.\n",
      "[I 2023-08-01 15:13:04,873] Trial 88 finished with value: 0.3504586008670302 and parameters: {'max_depth': 2, 'min_samples_split': 4}. Best is trial 23 with value: 0.3421184546707397.\n",
      "[I 2023-08-01 15:13:04,963] Trial 89 finished with value: 0.3504586008670302 and parameters: {'max_depth': 2, 'min_samples_split': 2}. Best is trial 23 with value: 0.3421184546707397.\n",
      "[I 2023-08-01 15:13:05,087] Trial 90 finished with value: 3.756030473551094 and parameters: {'max_depth': 8, 'min_samples_split': 3}. Best is trial 23 with value: 0.3421184546707397.\n",
      "[I 2023-08-01 15:13:05,159] Trial 91 finished with value: 0.3421184546707397 and parameters: {'max_depth': 2, 'min_samples_split': 10}. Best is trial 23 with value: 0.3421184546707397.\n",
      "[I 2023-08-01 15:13:05,231] Trial 92 finished with value: 0.3421184546707397 and parameters: {'max_depth': 2, 'min_samples_split': 8}. Best is trial 23 with value: 0.3421184546707397.\n",
      "[I 2023-08-01 15:13:05,305] Trial 93 finished with value: 0.3504586008670302 and parameters: {'max_depth': 2, 'min_samples_split': 7}. Best is trial 23 with value: 0.3421184546707397.\n",
      "[I 2023-08-01 15:13:05,387] Trial 94 finished with value: 0.5375052718462829 and parameters: {'max_depth': 3, 'min_samples_split': 8}. Best is trial 23 with value: 0.3421184546707397.\n",
      "[I 2023-08-01 15:13:05,460] Trial 95 finished with value: 0.3504586008670302 and parameters: {'max_depth': 2, 'min_samples_split': 9}. Best is trial 23 with value: 0.3421184546707397.\n",
      "[I 2023-08-01 15:13:05,532] Trial 96 finished with value: 0.3421184546707397 and parameters: {'max_depth': 2, 'min_samples_split': 9}. Best is trial 23 with value: 0.3421184546707397.\n",
      "[I 2023-08-01 15:13:05,606] Trial 97 finished with value: 0.3504586008670302 and parameters: {'max_depth': 2, 'min_samples_split': 5}. Best is trial 23 with value: 0.3421184546707397.\n",
      "[I 2023-08-01 15:13:05,688] Trial 98 finished with value: 0.47896147887723595 and parameters: {'max_depth': 3, 'min_samples_split': 2}. Best is trial 23 with value: 0.3421184546707397.\n",
      "[I 2023-08-01 15:13:05,759] Trial 99 finished with value: 0.3421184546707397 and parameters: {'max_depth': 2, 'min_samples_split': 3}. Best is trial 23 with value: 0.3421184546707397.\n"
     ]
    },
    {
     "name": "stdout",
     "output_type": "stream",
     "text": [
      "Best Hyperparameters: {'max_depth': 2, 'min_samples_split': 2}\n"
     ]
    }
   ],
   "source": [
    "from sklearn.model_selection import train_test_split, StratifiedKFold\n",
    "from sklearn.tree import DecisionTreeClassifier\n",
    "from sklearn.metrics import log_loss\n",
    "import optuna\n",
    "\n",
    "# Step 1: Prepare the data (Replace X and y with your dataset)\n",
    "X, y = np.array(train.drop(columns = ['Id', 'Class'])), train['Class']\n",
    "\n",
    "# Step 2: Define the model\n",
    "def objective(trial):\n",
    "    params = {\n",
    "        'max_depth': trial.suggest_int('max_depth', 2, 10),\n",
    "        'min_samples_split': trial.suggest_int('min_samples_split', 2, 10),\n",
    "    }\n",
    "    model = DecisionTreeClassifier(**params)\n",
    "\n",
    "    # Step 4: Perform K-fold Stratification\n",
    "    kf = StratifiedKFold(n_splits=5, shuffle=True, random_state=42)\n",
    "    log_losses = []\n",
    "    for train_idx, val_idx in kf.split(X, y):\n",
    "        X_train, X_val = X[train_idx], X[val_idx]\n",
    "        y_train, y_val = y[train_idx], y[val_idx]\n",
    "\n",
    "        model.fit(X_train, y_train)\n",
    "        y_pred_proba = model.predict_proba(X_val)\n",
    "        log_loss_val = log_loss(y_val, y_pred_proba)\n",
    "        log_losses.append(log_loss_val)\n",
    "\n",
    "    return np.mean(log_losses)\n",
    "\n",
    "# Step 3: Hyperparameter Tuning with Optuna\n",
    "study = optuna.create_study(direction='minimize')\n",
    "study.optimize(objective, n_trials=100)\n",
    "\n",
    "# Step 5: Train and evaluate the model with the best hyperparameters\n",
    "best_params = study.best_params\n",
    "best_model = DecisionTreeClassifier(**best_params)\n",
    "best_model.fit(X, y)\n",
    "\n",
    "print(\"Best Hyperparameters:\", best_params)\n"
   ]
  },
  {
   "cell_type": "code",
   "execution_count": 11,
   "id": "727dd0e1",
   "metadata": {
    "execution": {
     "iopub.execute_input": "2023-08-01T15:13:05.808346Z",
     "iopub.status.busy": "2023-08-01T15:13:05.807958Z",
     "iopub.status.idle": "2023-08-01T15:13:05.813421Z",
     "shell.execute_reply": "2023-08-01T15:13:05.812276Z"
    },
    "papermill": {
     "duration": 0.024765,
     "end_time": "2023-08-01T15:13:05.815592",
     "exception": false,
     "start_time": "2023-08-01T15:13:05.790827",
     "status": "completed"
    },
    "tags": []
   },
   "outputs": [],
   "source": [
    "test.fillna(0, inplace = True)"
   ]
  },
  {
   "cell_type": "code",
   "execution_count": 12,
   "id": "49fe1f77",
   "metadata": {
    "execution": {
     "iopub.execute_input": "2023-08-01T15:13:05.848576Z",
     "iopub.status.busy": "2023-08-01T15:13:05.847495Z",
     "iopub.status.idle": "2023-08-01T15:13:05.865643Z",
     "shell.execute_reply": "2023-08-01T15:13:05.864473Z"
    },
    "papermill": {
     "duration": 0.037258,
     "end_time": "2023-08-01T15:13:05.868107",
     "exception": false,
     "start_time": "2023-08-01T15:13:05.830849",
     "status": "completed"
    },
    "tags": []
   },
   "outputs": [
    {
     "name": "stderr",
     "output_type": "stream",
     "text": [
      "/opt/conda/lib/python3.10/site-packages/sklearn/base.py:432: UserWarning: X has feature names, but DecisionTreeClassifier was fitted without feature names\n",
      "  warnings.warn(\n"
     ]
    },
    {
     "data": {
      "text/plain": [
       "array([[0.93110236, 0.06889764],\n",
       "       [0.93110236, 0.06889764],\n",
       "       [0.93110236, 0.06889764],\n",
       "       [0.93110236, 0.06889764],\n",
       "       [0.93110236, 0.06889764]])"
      ]
     },
     "execution_count": 12,
     "metadata": {},
     "output_type": "execute_result"
    }
   ],
   "source": [
    "best_model.predict_proba(test[[col for col in train.drop(columns = ['Id', 'Class']).columns]])"
   ]
  },
  {
   "cell_type": "code",
   "execution_count": 13,
   "id": "6285c440",
   "metadata": {
    "execution": {
     "iopub.execute_input": "2023-08-01T15:13:05.903049Z",
     "iopub.status.busy": "2023-08-01T15:13:05.902606Z",
     "iopub.status.idle": "2023-08-01T15:13:05.915863Z",
     "shell.execute_reply": "2023-08-01T15:13:05.914306Z"
    },
    "papermill": {
     "duration": 0.034652,
     "end_time": "2023-08-01T15:13:05.918377",
     "exception": false,
     "start_time": "2023-08-01T15:13:05.883725",
     "status": "completed"
    },
    "tags": []
   },
   "outputs": [
    {
     "name": "stderr",
     "output_type": "stream",
     "text": [
      "/opt/conda/lib/python3.10/site-packages/sklearn/base.py:432: UserWarning: X has feature names, but DecisionTreeClassifier was fitted without feature names\n",
      "  warnings.warn(\n"
     ]
    }
   ],
   "source": [
    "sample_submission[['class_0', 'class_1']] = best_model.predict_proba(test[[col for col in train.drop(columns = ['Id', 'Class']).columns]])"
   ]
  },
  {
   "cell_type": "code",
   "execution_count": 14,
   "id": "f4bd226d",
   "metadata": {
    "execution": {
     "iopub.execute_input": "2023-08-01T15:13:05.952013Z",
     "iopub.status.busy": "2023-08-01T15:13:05.951562Z",
     "iopub.status.idle": "2023-08-01T15:13:05.960711Z",
     "shell.execute_reply": "2023-08-01T15:13:05.959739Z"
    },
    "papermill": {
     "duration": 0.028882,
     "end_time": "2023-08-01T15:13:05.963336",
     "exception": false,
     "start_time": "2023-08-01T15:13:05.934454",
     "status": "completed"
    },
    "tags": []
   },
   "outputs": [],
   "source": [
    "sample_submission.to_csv('submission.csv', index=False)"
   ]
  },
  {
   "cell_type": "code",
   "execution_count": null,
   "id": "06c49f45",
   "metadata": {
    "papermill": {
     "duration": 0.015348,
     "end_time": "2023-08-01T15:13:05.994589",
     "exception": false,
     "start_time": "2023-08-01T15:13:05.979241",
     "status": "completed"
    },
    "tags": []
   },
   "outputs": [],
   "source": []
  }
 ],
 "metadata": {
  "kernelspec": {
   "display_name": "Python 3",
   "language": "python",
   "name": "python3"
  },
  "language_info": {
   "codemirror_mode": {
    "name": "ipython",
    "version": 3
   },
   "file_extension": ".py",
   "mimetype": "text/x-python",
   "name": "python",
   "nbconvert_exporter": "python",
   "pygments_lexer": "ipython3",
   "version": "3.10.12"
  },
  "papermill": {
   "default_parameters": {},
   "duration": 29.964017,
   "end_time": "2023-08-01T15:13:07.134097",
   "environment_variables": {},
   "exception": null,
   "input_path": "__notebook__.ipynb",
   "output_path": "__notebook__.ipynb",
   "parameters": {},
   "start_time": "2023-08-01T15:12:37.170080",
   "version": "2.4.0"
  }
 },
 "nbformat": 4,
 "nbformat_minor": 5
}
